{
 "cells": [
  {
   "cell_type": "code",
   "execution_count": 2,
   "metadata": {},
   "outputs": [],
   "source": [
    "from sklearn import datasets"
   ]
  },
  {
   "cell_type": "code",
   "execution_count": 8,
   "metadata": {},
   "outputs": [],
   "source": [
    "X_digits, Y_digits = datasets.load_digits(return_X_y=True)\n",
    "X_breast_cancer, Y_breast_cancer = datasets.load_breast_cancer(return_X_y=True)"
   ]
  },
  {
   "cell_type": "code",
   "execution_count": 9,
   "metadata": {},
   "outputs": [
    {
     "data": {
      "text/plain": [
       "array([[ 0.,  0.,  5., ...,  0.,  0.,  0.],\n",
       "       [ 0.,  0.,  0., ..., 10.,  0.,  0.],\n",
       "       [ 0.,  0.,  0., ..., 16.,  9.,  0.],\n",
       "       ...,\n",
       "       [ 0.,  0.,  1., ...,  6.,  0.,  0.],\n",
       "       [ 0.,  0.,  2., ..., 12.,  0.,  0.],\n",
       "       [ 0.,  0., 10., ..., 12.,  1.,  0.]])"
      ]
     },
     "execution_count": 9,
     "metadata": {},
     "output_type": "execute_result"
    }
   ],
   "source": [
    "X_digits"
   ]
  },
  {
   "cell_type": "code",
   "execution_count": 10,
   "metadata": {},
   "outputs": [
    {
     "data": {
      "text/plain": [
       "array([[1.799e+01, 1.038e+01, 1.228e+02, ..., 2.654e-01, 4.601e-01,\n",
       "        1.189e-01],\n",
       "       [2.057e+01, 1.777e+01, 1.329e+02, ..., 1.860e-01, 2.750e-01,\n",
       "        8.902e-02],\n",
       "       [1.969e+01, 2.125e+01, 1.300e+02, ..., 2.430e-01, 3.613e-01,\n",
       "        8.758e-02],\n",
       "       ...,\n",
       "       [1.660e+01, 2.808e+01, 1.083e+02, ..., 1.418e-01, 2.218e-01,\n",
       "        7.820e-02],\n",
       "       [2.060e+01, 2.933e+01, 1.401e+02, ..., 2.650e-01, 4.087e-01,\n",
       "        1.240e-01],\n",
       "       [7.760e+00, 2.454e+01, 4.792e+01, ..., 0.000e+00, 2.871e-01,\n",
       "        7.039e-02]])"
      ]
     },
     "execution_count": 10,
     "metadata": {},
     "output_type": "execute_result"
    }
   ],
   "source": [
    "X_breast_cancer"
   ]
  },
  {
   "cell_type": "code",
   "execution_count": 17,
   "metadata": {},
   "outputs": [],
   "source": [
    "from sklearn import cross_validation\n",
    "from sklearn import naive_bayes"
   ]
  },
  {
   "cell_type": "code",
   "execution_count": 18,
   "metadata": {},
   "outputs": [],
   "source": [
    "MultinomialNB = naive_bayes.MultinomialNB()\n",
    "GaussianNB = naive_bayes.GaussianNB()\n",
    "BernoulliNB = naive_bayes.BernoulliNB()"
   ]
  },
  {
   "cell_type": "code",
   "execution_count": 19,
   "metadata": {},
   "outputs": [],
   "source": [
    "dig_mult = cross_validation.cross_val_score(MultinomialNB, X_digits, y = Y_digits)\n",
    "dig_gauss = cross_validation.cross_val_score(GaussianNB, X_digits, y = Y_digits)\n",
    "dig_bernoulli = cross_validation.cross_val_score(BernoulliNB, X_digits, y = Y_digits)"
   ]
  },
  {
   "cell_type": "code",
   "execution_count": 20,
   "metadata": {},
   "outputs": [],
   "source": [
    "cancer_mult = cross_validation.cross_val_score(MultinomialNB, X_breast_cancer, y = Y_breast_cancer)\n",
    "cancer_gauss = cross_validation.cross_val_score(GaussianNB, X_breast_cancer, y = Y_breast_cancer)\n",
    "cancer_bernoulli = cross_validation.cross_val_score(BernoulliNB, X_breast_cancer, y = Y_breast_cancer)"
   ]
  },
  {
   "cell_type": "code",
   "execution_count": 23,
   "metadata": {},
   "outputs": [
    {
     "data": {
      "text/plain": [
       "[0.8708771489735053,\n",
       " 0.8186003803550138,\n",
       " 0.8258236507780582,\n",
       " 0.8945790401930752,\n",
       " 0.9367492806089297,\n",
       " 0.6274204028589994]"
      ]
     },
     "execution_count": 23,
     "metadata": {},
     "output_type": "execute_result"
    }
   ],
   "source": [
    "arr_val = [dig_mult.mean(), dig_gauss.mean(), dig_bernoulli.mean(), \n",
    " cancer_mult.mean(), cancer_gauss.mean(), cancer_bernoulli.mean()]\n",
    "arr_val"
   ]
  },
  {
   "cell_type": "code",
   "execution_count": 26,
   "metadata": {},
   "outputs": [
    {
     "data": {
      "text/plain": [
       "0.9367492806089297"
      ]
     },
     "execution_count": 26,
     "metadata": {},
     "output_type": "execute_result"
    }
   ],
   "source": [
    "max(arr_val[4:])"
   ]
  },
  {
   "cell_type": "code",
   "execution_count": 28,
   "metadata": {},
   "outputs": [
    {
     "data": {
      "text/plain": [
       "0.8708771489735053"
      ]
     },
     "execution_count": 28,
     "metadata": {},
     "output_type": "execute_result"
    }
   ],
   "source": [
    "max(arr_val[:3])"
   ]
  },
  {
   "cell_type": "markdown",
   "metadata": {},
   "source": [
    "Вопрос 1\n",
    "\n",
    "Каким получилось максимальное качество классификации на датасете breast_cancer?\n",
    "\n",
    "0.9367492806089297\n",
    "\n",
    "Вопрос 2\n",
    "\n",
    "Каким получилось максимальное качество классификации на датасете digits?\n",
    "\n",
    "0.8708771489735053\n",
    "\n",
    "Вопрос 3\n",
    "\n",
    "Выберите верные утверждения и запишите их номера через пробел (в порядке возрастания номера):\n",
    "\n",
    "1) На вещественных признаках лучше всего сработал наивный байесовский классификатор с распределением Бернулли\n",
    "\n",
    "2) На вещественных признаках лучше всего сработал наивный байесовский классификатор с мультиномиальным распределением\n",
    "\n",
    "3) Мультиномиальное распределение лучше показало себя на выборке с целыми неотрицательными значениями признаков\n",
    "\n",
    "4) На вещественных признаках лучше всего сработало нормальное распределение\n",
    "\n",
    "4"
   ]
  },
  {
   "cell_type": "code",
   "execution_count": null,
   "metadata": {},
   "outputs": [],
   "source": []
  }
 ],
 "metadata": {
  "kernelspec": {
   "display_name": "Python 2",
   "language": "python",
   "name": "python2"
  },
  "language_info": {
   "codemirror_mode": {
    "name": "ipython",
    "version": 2
   },
   "file_extension": ".py",
   "mimetype": "text/x-python",
   "name": "python",
   "nbconvert_exporter": "python",
   "pygments_lexer": "ipython2",
   "version": "2.7.15"
  }
 },
 "nbformat": 4,
 "nbformat_minor": 2
}
